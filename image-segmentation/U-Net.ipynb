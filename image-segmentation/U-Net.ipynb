{
  "nbformat": 4,
  "nbformat_minor": 0,
  "metadata": {
    "colab": {
      "name": "Image-segmentation.ipynb",
      "provenance": []
    },
    "kernelspec": {
      "name": "python3",
      "display_name": "Python 3"
    },
    "accelerator": "GPU"
  },
  "cells": [
    {
      "cell_type": "markdown",
      "metadata": {
        "id": "3gjAsmcKn_5o",
        "colab_type": "text"
      },
      "source": [
        "# Setting up the Environment\n",
        "\n"
      ]
    },
    {
      "cell_type": "code",
      "metadata": {
        "id": "5rS0d_YKPvLv",
        "colab_type": "code",
        "outputId": "e8709abe-f438-440f-c9a2-f7eb232c3970",
        "colab": {
          "base_uri": "https://localhost:8080/",
          "height": 34
        }
      },
      "source": [
        "%%writefile requirements.txt\n",
        "torch \n",
        "torchvision\n",
        "Pillow\n",
        "pandas==1.0.3\n",
        "numpy==1.18.4\n",
        "scipy==1.4.1\n",
        "scikit-image==0.17.2\n",
        "tqdm==4.46.0\n",
        "matplotlib==3.2.1"
      ],
      "execution_count": 0,
      "outputs": [
        {
          "output_type": "stream",
          "text": [
            "Writing requirements.txt\n"
          ],
          "name": "stdout"
        }
      ]
    },
    {
      "cell_type": "code",
      "metadata": {
        "id": "NSnbpMD1P2_w",
        "colab_type": "code",
        "colab": {}
      },
      "source": [
        "# !pip install -r requirements.txt"
      ],
      "execution_count": 0,
      "outputs": []
    },
    {
      "cell_type": "markdown",
      "metadata": {
        "id": "GnGKgrzSrq7S",
        "colab_type": "text"
      },
      "source": [
        "---\n",
        "# 01. Problem Statement\n",
        "The problem statement that is to presented us is of **Image Segmentation**. The image segmentation is usually defined as the process of dividing the image into multiple sections so that it becomes very easy analyze for the system and more details can be extracted from the image.\n",
        "\n",
        "## Dataset\n",
        "The dataset we have for this problem is the **Oxford IIIT Pet Dataset**. In the dataset, we have 37 categories of pets and around 200 images for each category of pet.\n",
        "\n",
        "## Approach\n",
        "The neural network architecture we will use to solve this problem is the [U-Net](https://arxiv.org/abs/1505.04597). Specifically developed for biomedical image segmentation, the U-Net out performs other architectures in the same domain. The **U-Net** consist a the contracting path to capture the context of the image and a symmetric expanding path to enables precise localization. "
      ]
    },
    {
      "cell_type": "code",
      "metadata": {
        "id": "JsvSTVzdvFks",
        "colab_type": "code",
        "outputId": "7788def1-ceea-499f-9566-2f8094466b4f",
        "colab": {
          "base_uri": "https://localhost:8080/",
          "height": 34
        }
      },
      "source": [
        "# importing the libraries\n",
        "import os\n",
        "import random\n",
        "import numpy as np\n",
        "import tensorflow as tf\n",
        "from tensorflow import keras\n",
        "from tensorflow.keras import layers \n",
        "from tensorflow.keras.preprocessing.image import load_img, array_to_img, img_to_array\n",
        "import PIL\n",
        "from PIL import ImageOps\n",
        "import matplotlib.pyplot as plt\n",
        "from IPython.display import clear_output, Image, display\n",
        "\n",
        "print(\"Num GPUs Available: \", len(tf.config.experimental.list_physical_devices('GPU')))\n",
        "keras.backend.clear_session()\n",
        "tf.debugging.set_log_device_placement(True)"
      ],
      "execution_count": 39,
      "outputs": [
        {
          "output_type": "stream",
          "text": [
            "Num GPUs Available:  1\n"
          ],
          "name": "stdout"
        }
      ]
    },
    {
      "cell_type": "markdown",
      "metadata": {
        "id": "IsG3te8LXwXG",
        "colab_type": "text"
      },
      "source": [
        "# 02. Loading the Dataset"
      ]
    },
    {
      "cell_type": "code",
      "metadata": {
        "id": "orQAKbYZCG_Z",
        "colab_type": "code",
        "outputId": "1d5749da-9539-4433-8b40-8a077510a397",
        "colab": {
          "base_uri": "https://localhost:8080/",
          "height": 156
        }
      },
      "source": [
        "# defining the root directory path and data folders\n",
        "root_dir = \"drive/My Drive/oxford-iiit-pet-dataset\"\n",
        "input_folder = \"images\"\n",
        "annot_folder = \"annotations/trimaps\"\n",
        "\n",
        "input_dir = os.path.join(root_dir, input_folder)\n",
        "annot_dir = os.path.join(root_dir, annot_folder)\n",
        "\n",
        "img_size = (160, 160)     # a tuple defining size of the image\n",
        "n_classes = 37\n",
        "\n",
        "# the following list comprehension reads the filenames from the input folder\n",
        "# we are putting a condition that filname must contain \".jpg\" as there are some \".mat\" files also in the same folder\n",
        "input_paths = [os.path.join(input_dir, i) for i in os.listdir(input_dir) if i.endswith(\".jpg\") and not i.endswith(\"(1).jpg\")]\n",
        "annot_paths = [os.path.join(annot_dir, i) for i in os.listdir(annot_dir) if i.endswith(\".png\") and not (i.startswith(\".\") or i.endswith(\"(1).png\"))] \n",
        "\n",
        "# sorting the input paths as it will be handy in creating a zip\n",
        "input_paths, annot_paths = sorted(input_paths), sorted(annot_paths)\n",
        "print(\"input_paths = {}\".format(len(input_paths)))\n",
        "print(\"annot_paths = {}\".format(len(annot_paths)))\n",
        "\n",
        "# verifying the paths\n",
        "count = 0\n",
        "for i, j in zip(input_paths, annot_paths):\n",
        "    print(\"{} --> {}\".format(i, j))\n",
        "    if count == 5:\n",
        "        break\n",
        "    count += 1"
      ],
      "execution_count": 2,
      "outputs": [
        {
          "output_type": "stream",
          "text": [
            "input_paths = 7390\n",
            "annot_paths = 7390\n",
            "drive/My Drive/oxford-iiit-pet-dataset/images/Abyssinian_1.jpg --> drive/My Drive/oxford-iiit-pet-dataset/annotations/trimaps/Abyssinian_1.png\n",
            "drive/My Drive/oxford-iiit-pet-dataset/images/Abyssinian_10.jpg --> drive/My Drive/oxford-iiit-pet-dataset/annotations/trimaps/Abyssinian_10.png\n",
            "drive/My Drive/oxford-iiit-pet-dataset/images/Abyssinian_100.jpg --> drive/My Drive/oxford-iiit-pet-dataset/annotations/trimaps/Abyssinian_100.png\n",
            "drive/My Drive/oxford-iiit-pet-dataset/images/Abyssinian_101.jpg --> drive/My Drive/oxford-iiit-pet-dataset/annotations/trimaps/Abyssinian_101.png\n",
            "drive/My Drive/oxford-iiit-pet-dataset/images/Abyssinian_102.jpg --> drive/My Drive/oxford-iiit-pet-dataset/annotations/trimaps/Abyssinian_102.png\n",
            "drive/My Drive/oxford-iiit-pet-dataset/images/Abyssinian_103.jpg --> drive/My Drive/oxford-iiit-pet-dataset/annotations/trimaps/Abyssinian_103.png\n"
          ],
          "name": "stdout"
        }
      ]
    },
    {
      "cell_type": "code",
      "metadata": {
        "id": "kNQDIhiEg72Y",
        "colab_type": "code",
        "outputId": "f3e15a12-72e9-4a04-98bd-f04d5258a003",
        "colab": {
          "base_uri": "https://localhost:8080/",
          "height": 463
        }
      },
      "source": [
        "# checking what does an input image and it's corresponding trimap looks like\n",
        "display(Image(input_paths[71]))\n",
        "PIL.ImageOps.autocontrast(load_img(annot_paths[71]))"
      ],
      "execution_count": 0,
      "outputs": [
        {
          "output_type": "display_data",
          "data": {
            "image/jpeg": "[encoded data removed]",
            "text/plain": [
              "<IPython.core.display.Image object>"
            ]
          },
          "metadata": {
            "tags": []
          }
        },
        {
          "output_type": "execute_result",
          "data": {
            "image/png": "[encoded data removed]",
            "text/plain": [
              "<PIL.Image.Image image mode=RGB size=300x223 at 0x7F376E21C2B0>"
            ]
          },
          "metadata": {
            "tags": []
          },
          "execution_count": 4
        }
      ]
    },
    {
      "cell_type": "markdown",
      "metadata": {
        "id": "udnP0nAKxgbG",
        "colab_type": "text"
      },
      "source": [
        "---\n",
        "# 02. Model Building"
      ]
    },
    {
      "cell_type": "markdown",
      "metadata": {
        "id": "n6urAces2gJW",
        "colab_type": "text"
      },
      "source": [
        "### Create a dataloader class"
      ]
    },
    {
      "cell_type": "code",
      "metadata": {
        "id": "Ho6GXgDAxoz9",
        "colab_type": "code",
        "colab": {}
      },
      "source": [
        "class Dataloader(keras.utils.Sequence):\n",
        "    \"\"\"\n",
        "    helper class to iterate over the data\n",
        "    \"\"\"\n",
        "    def __init__(self, batch_size, img_size, input_img_paths, target_img_paths):\n",
        "        self.batch_size = batch_size\n",
        "        self.img_size = img_size\n",
        "        self.input_img_paths = input_img_paths\n",
        "        self.target_img_paths = target_img_paths\n",
        "\n",
        "    def __len__(self):\n",
        "        return len(self.target_img_paths) // self.batch_size\n",
        "\n",
        "    def __getitem__(self, index):\n",
        "        \"\"\"\n",
        "        returns tuple (input, target) corresponds to the batch index\n",
        "        \"\"\"\n",
        "        i = index * self.batch_size\n",
        "        batch_input_img_paths = self.input_img_paths[i: i+self.batch_size]\n",
        "        batch_target_img_paths = self.target_img_paths[i: i+self.batch_size]\n",
        "        x = np.zeros((batch_size,) + self.img_size + (3,), dtype = \"float32\")\n",
        "        for j, path in enumerate(batch_input_img_paths):\n",
        "            img = load_img(path, target_size = self.img_size)\n",
        "            x[j] = img\n",
        "        y = np.zeros((batch_size,) + self.img_size + (1,), dtype = \"uint8\")\n",
        "        for j, path in enumerate(batch_target_img_paths):\n",
        "            img = load_img(path, target_size = self.img_size, color_mode = \"grayscale\")\n",
        "            y[j] = np.expand_dims(img, 2)\n",
        "        return x, y"
      ],
      "execution_count": 0,
      "outputs": []
    },
    {
      "cell_type": "markdown",
      "metadata": {
        "id": "1Nc3z6SN2loN",
        "colab_type": "text"
      },
      "source": [
        "## Define U-Net architecture"
      ]
    },
    {
      "cell_type": "code",
      "metadata": {
        "id": "UoVgTkmG2xd2",
        "colab_type": "code",
        "colab": {}
      },
      "source": [
        "def u_net(img_size, n_classes):\n",
        "    \"\"\"\n",
        "    the function defines the U-Net style architecture\n",
        "\n",
        "    args: img_size (size of the image)\n",
        "          n_classes (number of classes)\n",
        "    returns: model \n",
        "    \"\"\"\n",
        "    input_ = keras.Input(shape = img_size + (3,))\n",
        "\n",
        "    ###########################################\n",
        "    ## Contractor Path - First half of U-Net ##\n",
        "    ###########################################\n",
        "\n",
        "    x = layers.Conv2D(32, 3, strides = 2, padding = \"same\")(input_)\n",
        "    x = layers.BatchNormalization()(x)\n",
        "    x = layers.Activation(\"relu\")(x)\n",
        "\n",
        "    previous_block_activation = x\n",
        "\n",
        "    # apart from the feature depths, the blocks 1, 2, 3 are identical to one another\n",
        "    for filters in [64, 128, 256]:\n",
        "        x = layers.Activation(\"relu\")(x)\n",
        "        x = layers.SeparableConv2D(filters, 3, padding = \"same\")(x)\n",
        "        x = layers.BatchNormalization()(x)\n",
        "\n",
        "        x = layers.Activation(\"relu\")(x)\n",
        "        x = layers.SeparableConv2D(filters, 3, padding = \"same\")(x)\n",
        "        x = layers.BatchNormalization()(x)\n",
        "\n",
        "        x = layers.MaxPooling2D(3, strides = 2, padding = \"same\")(x)\n",
        "\n",
        "        # residuals\n",
        "        resid = layers.Conv2D(filters, 1, strides = 2, padding = \"same\")(\n",
        "            previous_block_activation\n",
        "        )\n",
        "        x = layers.add([x, resid])    # add resid block\n",
        "        previous_block_activation = x\n",
        "    \n",
        "    ###########################################\n",
        "    ## Expanding Path - Second half of U-Net ##\n",
        "    ###########################################\n",
        "    previous_block_activation = x    # residual\n",
        "    for filters in [256, 128, 64, 32]:\n",
        "        x = layers.Activation(\"relu\")(x)\n",
        "        x = layers.Conv2DTranspose(filters, 3, padding = \"same\")(x)\n",
        "        x = layers.BatchNormalization()(x)\n",
        "\n",
        "\n",
        "        x = layers.Activation(\"relu\")(x)\n",
        "        x = layers.Conv2DTranspose(filters, 3, padding = \"same\")(x)\n",
        "        x = layers.BatchNormalization()(x)\n",
        "\n",
        "        x = layers.UpSampling2D(2)(x)\n",
        "\n",
        "        # residuals\n",
        "        resid = layers.UpSampling2D(2)(previous_block_activation)\n",
        "        resid = layers.Conv2D(filters, 1, padding = \"same\")(resid)\n",
        "        x = layers.add([x, resid])\n",
        "        previous_block_activation = x \n",
        "\n",
        "    # Add a pixel level classification layer\n",
        "    output_ = layers.Conv2D(n_classes, 3, \n",
        "                            activation = \"softmax\", \n",
        "                            padding = \"same\")(x)\n",
        "    unet_model = keras.Model(input_, output_)\n",
        "    return unet_model"
      ],
      "execution_count": 0,
      "outputs": []
    },
    {
      "cell_type": "code",
      "metadata": {
        "id": "mtYeN0N92SnZ",
        "colab_type": "code",
        "colab": {}
      },
      "source": [
        "unet_model = u_net(img_size = img_size, n_classes = n_classes)"
      ],
      "execution_count": 0,
      "outputs": []
    },
    {
      "cell_type": "code",
      "metadata": {
        "id": "Ao7kr8RdQmZ8",
        "colab_type": "code",
        "outputId": "8f3b5167-60df-498a-83ad-4b9005cc1b14",
        "colab": {
          "base_uri": "https://localhost:8080/",
          "height": 1000
        }
      },
      "source": [
        "unet_model.summary()"
      ],
      "execution_count": 0,
      "outputs": [
        {
          "output_type": "stream",
          "text": [
            "Model: \"model_3\"\n",
            "__________________________________________________________________________________________________\n",
            "Layer (type)                    Output Shape         Param #     Connected to                     \n",
            "==================================================================================================\n",
            "input_12 (InputLayer)           [(None, 160, 160, 3) 0                                            \n",
            "__________________________________________________________________________________________________\n",
            "conv2d_47 (Conv2D)              (None, 80, 80, 32)   896         input_12[0][0]                   \n",
            "__________________________________________________________________________________________________\n",
            "batch_normalization_76 (BatchNo (None, 80, 80, 32)   128         conv2d_47[0][0]                  \n",
            "__________________________________________________________________________________________________\n",
            "activation_77 (Activation)      (None, 80, 80, 32)   0           batch_normalization_76[0][0]     \n",
            "__________________________________________________________________________________________________\n",
            "activation_78 (Activation)      (None, 80, 80, 32)   0           activation_77[0][0]              \n",
            "__________________________________________________________________________________________________\n",
            "separable_conv2d_34 (SeparableC (None, 80, 80, 64)   2400        activation_78[0][0]              \n",
            "__________________________________________________________________________________________________\n",
            "batch_normalization_77 (BatchNo (None, 80, 80, 64)   256         separable_conv2d_34[0][0]        \n",
            "__________________________________________________________________________________________________\n",
            "activation_79 (Activation)      (None, 80, 80, 64)   0           batch_normalization_77[0][0]     \n",
            "__________________________________________________________________________________________________\n",
            "separable_conv2d_35 (SeparableC (None, 80, 80, 64)   4736        activation_79[0][0]              \n",
            "__________________________________________________________________________________________________\n",
            "batch_normalization_78 (BatchNo (None, 80, 80, 64)   256         separable_conv2d_35[0][0]        \n",
            "__________________________________________________________________________________________________\n",
            "max_pooling2d_16 (MaxPooling2D) (None, 40, 40, 64)   0           batch_normalization_78[0][0]     \n",
            "__________________________________________________________________________________________________\n",
            "conv2d_48 (Conv2D)              (None, 40, 40, 64)   2112        activation_77[0][0]              \n",
            "__________________________________________________________________________________________________\n",
            "add_32 (Add)                    (None, 40, 40, 64)   0           max_pooling2d_16[0][0]           \n",
            "                                                                 conv2d_48[0][0]                  \n",
            "__________________________________________________________________________________________________\n",
            "activation_80 (Activation)      (None, 40, 40, 64)   0           add_32[0][0]                     \n",
            "__________________________________________________________________________________________________\n",
            "separable_conv2d_36 (SeparableC (None, 40, 40, 128)  8896        activation_80[0][0]              \n",
            "__________________________________________________________________________________________________\n",
            "batch_normalization_79 (BatchNo (None, 40, 40, 128)  512         separable_conv2d_36[0][0]        \n",
            "__________________________________________________________________________________________________\n",
            "activation_81 (Activation)      (None, 40, 40, 128)  0           batch_normalization_79[0][0]     \n",
            "__________________________________________________________________________________________________\n",
            "separable_conv2d_37 (SeparableC (None, 40, 40, 128)  17664       activation_81[0][0]              \n",
            "__________________________________________________________________________________________________\n",
            "batch_normalization_80 (BatchNo (None, 40, 40, 128)  512         separable_conv2d_37[0][0]        \n",
            "__________________________________________________________________________________________________\n",
            "max_pooling2d_17 (MaxPooling2D) (None, 20, 20, 128)  0           batch_normalization_80[0][0]     \n",
            "__________________________________________________________________________________________________\n",
            "conv2d_49 (Conv2D)              (None, 20, 20, 128)  8320        add_32[0][0]                     \n",
            "__________________________________________________________________________________________________\n",
            "add_33 (Add)                    (None, 20, 20, 128)  0           max_pooling2d_17[0][0]           \n",
            "                                                                 conv2d_49[0][0]                  \n",
            "__________________________________________________________________________________________________\n",
            "activation_82 (Activation)      (None, 20, 20, 128)  0           add_33[0][0]                     \n",
            "__________________________________________________________________________________________________\n",
            "separable_conv2d_38 (SeparableC (None, 20, 20, 256)  34176       activation_82[0][0]              \n",
            "__________________________________________________________________________________________________\n",
            "batch_normalization_81 (BatchNo (None, 20, 20, 256)  1024        separable_conv2d_38[0][0]        \n",
            "__________________________________________________________________________________________________\n",
            "activation_83 (Activation)      (None, 20, 20, 256)  0           batch_normalization_81[0][0]     \n",
            "__________________________________________________________________________________________________\n",
            "separable_conv2d_39 (SeparableC (None, 20, 20, 256)  68096       activation_83[0][0]              \n",
            "__________________________________________________________________________________________________\n",
            "batch_normalization_82 (BatchNo (None, 20, 20, 256)  1024        separable_conv2d_39[0][0]        \n",
            "__________________________________________________________________________________________________\n",
            "max_pooling2d_18 (MaxPooling2D) (None, 10, 10, 256)  0           batch_normalization_82[0][0]     \n",
            "__________________________________________________________________________________________________\n",
            "conv2d_50 (Conv2D)              (None, 10, 10, 256)  33024       add_33[0][0]                     \n",
            "__________________________________________________________________________________________________\n",
            "add_34 (Add)                    (None, 10, 10, 256)  0           max_pooling2d_18[0][0]           \n",
            "                                                                 conv2d_50[0][0]                  \n",
            "__________________________________________________________________________________________________\n",
            "activation_84 (Activation)      (None, 10, 10, 256)  0           add_34[0][0]                     \n",
            "__________________________________________________________________________________________________\n",
            "conv2d_transpose_32 (Conv2DTran (None, 10, 10, 256)  590080      activation_84[0][0]              \n",
            "__________________________________________________________________________________________________\n",
            "batch_normalization_83 (BatchNo (None, 10, 10, 256)  1024        conv2d_transpose_32[0][0]        \n",
            "__________________________________________________________________________________________________\n",
            "activation_85 (Activation)      (None, 10, 10, 256)  0           batch_normalization_83[0][0]     \n",
            "__________________________________________________________________________________________________\n",
            "conv2d_transpose_33 (Conv2DTran (None, 10, 10, 256)  590080      activation_85[0][0]              \n",
            "__________________________________________________________________________________________________\n",
            "batch_normalization_84 (BatchNo (None, 10, 10, 256)  1024        conv2d_transpose_33[0][0]        \n",
            "__________________________________________________________________________________________________\n",
            "up_sampling2d_33 (UpSampling2D) (None, 20, 20, 256)  0           add_34[0][0]                     \n",
            "__________________________________________________________________________________________________\n",
            "up_sampling2d_32 (UpSampling2D) (None, 20, 20, 256)  0           batch_normalization_84[0][0]     \n",
            "__________________________________________________________________________________________________\n",
            "conv2d_51 (Conv2D)              (None, 20, 20, 256)  65792       up_sampling2d_33[0][0]           \n",
            "__________________________________________________________________________________________________\n",
            "add_35 (Add)                    (None, 20, 20, 256)  0           up_sampling2d_32[0][0]           \n",
            "                                                                 conv2d_51[0][0]                  \n",
            "__________________________________________________________________________________________________\n",
            "activation_86 (Activation)      (None, 20, 20, 256)  0           add_35[0][0]                     \n",
            "__________________________________________________________________________________________________\n",
            "conv2d_transpose_34 (Conv2DTran (None, 20, 20, 128)  295040      activation_86[0][0]              \n",
            "__________________________________________________________________________________________________\n",
            "batch_normalization_85 (BatchNo (None, 20, 20, 128)  512         conv2d_transpose_34[0][0]        \n",
            "__________________________________________________________________________________________________\n",
            "activation_87 (Activation)      (None, 20, 20, 128)  0           batch_normalization_85[0][0]     \n",
            "__________________________________________________________________________________________________\n",
            "conv2d_transpose_35 (Conv2DTran (None, 20, 20, 128)  147584      activation_87[0][0]              \n",
            "__________________________________________________________________________________________________\n",
            "batch_normalization_86 (BatchNo (None, 20, 20, 128)  512         conv2d_transpose_35[0][0]        \n",
            "__________________________________________________________________________________________________\n",
            "up_sampling2d_35 (UpSampling2D) (None, 40, 40, 256)  0           add_35[0][0]                     \n",
            "__________________________________________________________________________________________________\n",
            "up_sampling2d_34 (UpSampling2D) (None, 40, 40, 128)  0           batch_normalization_86[0][0]     \n",
            "__________________________________________________________________________________________________\n",
            "conv2d_52 (Conv2D)              (None, 40, 40, 128)  32896       up_sampling2d_35[0][0]           \n",
            "__________________________________________________________________________________________________\n",
            "add_36 (Add)                    (None, 40, 40, 128)  0           up_sampling2d_34[0][0]           \n",
            "                                                                 conv2d_52[0][0]                  \n",
            "__________________________________________________________________________________________________\n",
            "activation_88 (Activation)      (None, 40, 40, 128)  0           add_36[0][0]                     \n",
            "__________________________________________________________________________________________________\n",
            "conv2d_transpose_36 (Conv2DTran (None, 40, 40, 64)   73792       activation_88[0][0]              \n",
            "__________________________________________________________________________________________________\n",
            "batch_normalization_87 (BatchNo (None, 40, 40, 64)   256         conv2d_transpose_36[0][0]        \n",
            "__________________________________________________________________________________________________\n",
            "activation_89 (Activation)      (None, 40, 40, 64)   0           batch_normalization_87[0][0]     \n",
            "__________________________________________________________________________________________________\n",
            "conv2d_transpose_37 (Conv2DTran (None, 40, 40, 64)   36928       activation_89[0][0]              \n",
            "__________________________________________________________________________________________________\n",
            "batch_normalization_88 (BatchNo (None, 40, 40, 64)   256         conv2d_transpose_37[0][0]        \n",
            "__________________________________________________________________________________________________\n",
            "up_sampling2d_37 (UpSampling2D) (None, 80, 80, 128)  0           add_36[0][0]                     \n",
            "__________________________________________________________________________________________________\n",
            "up_sampling2d_36 (UpSampling2D) (None, 80, 80, 64)   0           batch_normalization_88[0][0]     \n",
            "__________________________________________________________________________________________________\n",
            "conv2d_53 (Conv2D)              (None, 80, 80, 64)   8256        up_sampling2d_37[0][0]           \n",
            "__________________________________________________________________________________________________\n",
            "add_37 (Add)                    (None, 80, 80, 64)   0           up_sampling2d_36[0][0]           \n",
            "                                                                 conv2d_53[0][0]                  \n",
            "__________________________________________________________________________________________________\n",
            "activation_90 (Activation)      (None, 80, 80, 64)   0           add_37[0][0]                     \n",
            "__________________________________________________________________________________________________\n",
            "conv2d_transpose_38 (Conv2DTran (None, 80, 80, 32)   18464       activation_90[0][0]              \n",
            "__________________________________________________________________________________________________\n",
            "batch_normalization_89 (BatchNo (None, 80, 80, 32)   128         conv2d_transpose_38[0][0]        \n",
            "__________________________________________________________________________________________________\n",
            "activation_91 (Activation)      (None, 80, 80, 32)   0           batch_normalization_89[0][0]     \n",
            "__________________________________________________________________________________________________\n",
            "conv2d_transpose_39 (Conv2DTran (None, 80, 80, 32)   9248        activation_91[0][0]              \n",
            "__________________________________________________________________________________________________\n",
            "batch_normalization_90 (BatchNo (None, 80, 80, 32)   128         conv2d_transpose_39[0][0]        \n",
            "__________________________________________________________________________________________________\n",
            "up_sampling2d_39 (UpSampling2D) (None, 160, 160, 64) 0           add_37[0][0]                     \n",
            "__________________________________________________________________________________________________\n",
            "up_sampling2d_38 (UpSampling2D) (None, 160, 160, 32) 0           batch_normalization_90[0][0]     \n",
            "__________________________________________________________________________________________________\n",
            "conv2d_54 (Conv2D)              (None, 160, 160, 32) 2080        up_sampling2d_39[0][0]           \n",
            "__________________________________________________________________________________________________\n",
            "add_38 (Add)                    (None, 160, 160, 32) 0           up_sampling2d_38[0][0]           \n",
            "                                                                 conv2d_54[0][0]                  \n",
            "__________________________________________________________________________________________________\n",
            "conv2d_55 (Conv2D)              (None, 160, 160, 37) 10693       add_38[0][0]                     \n",
            "==================================================================================================\n",
            "Total params: 2,068,805\n",
            "Trainable params: 2,065,029\n",
            "Non-trainable params: 3,776\n",
            "__________________________________________________________________________________________________\n"
          ],
          "name": "stdout"
        }
      ]
    },
    {
      "cell_type": "markdown",
      "metadata": {
        "id": "HHV665YpVeD8",
        "colab_type": "text"
      },
      "source": [
        "---\n",
        "# 04. Model Training"
      ]
    },
    {
      "cell_type": "code",
      "metadata": {
        "id": "KyHtfZ0CVpSk",
        "colab_type": "code",
        "outputId": "55242930-0432-41c3-a428-0dbc75ddc0e9",
        "colab": {
          "base_uri": "https://localhost:8080/",
          "height": 69
        }
      },
      "source": [
        "# split our img paths into a training and a testing set\n",
        "test_samples = int(0.3 * len(input_paths))\n",
        "random.Random(42).shuffle(input_paths)\n",
        "random.Random(42).shuffle(annot_paths)\n",
        "train_input_paths = input_paths[:-test_samples]\n",
        "train_annot_paths = annot_paths[:-test_samples]\n",
        "testset_input_paths = input_paths[-test_samples:]\n",
        "testset_annot_paths = annot_paths[-test_samples:]\n",
        "\n",
        "# split our img paths into a training and a validation set\n",
        "valid_samples = int(0.1 * len(train_input_paths))\n",
        "random.Random(42).shuffle(train_input_paths)\n",
        "random.Random(42).shuffle(train_annot_paths)\n",
        "trainset_input_paths = train_input_paths[:-valid_samples]\n",
        "trainset_annot_paths = train_annot_paths[:-valid_samples]\n",
        "validset_input_paths = train_input_paths[-valid_samples:]\n",
        "validset_annot_paths = train_annot_paths[-valid_samples:]\n",
        "\n",
        "print(\"Train Samples ... {}, {}\".format(len(trainset_input_paths), len(trainset_annot_paths)))\n",
        "print(\"Valid Samples ... {}, {}\".format(len(validset_input_paths), len(validset_annot_paths)))\n",
        "print(\"Test Samples ... {}, {}\".format(len(testset_input_paths), len(testset_annot_paths)))"
      ],
      "execution_count": 4,
      "outputs": [
        {
          "output_type": "stream",
          "text": [
            "Train Samples ... 4656, 4656\n",
            "Valid Samples ... 517, 517\n",
            "Test Samples ... 2217, 2217\n"
          ],
          "name": "stdout"
        }
      ]
    },
    {
      "cell_type": "code",
      "metadata": {
        "id": "uwUzAe62lCUt",
        "colab_type": "code",
        "colab": {}
      },
      "source": [
        "batch_size = 32\n",
        "epochs = 15\n",
        "\n",
        "train_generator = Dataloader(batch_size, img_size, trainset_input_paths, trainset_annot_paths)\n",
        "valid_generator = Dataloader(batch_size, img_size, validset_input_paths, validset_annot_paths)\n",
        "test_generator = Dataloader(batch_size, img_size, testset_input_paths, testset_annot_paths)"
      ],
      "execution_count": 0,
      "outputs": []
    },
    {
      "cell_type": "code",
      "metadata": {
        "id": "99gsP6PEkAot",
        "colab_type": "code",
        "outputId": "d79e3c9a-4919-4b13-c842-196186ab7961",
        "colab": {
          "base_uri": "https://localhost:8080/",
          "height": 1000
        }
      },
      "source": [
        "# configure the model for training\n",
        "unet_model.compile(optimizer = \"rmsprop\", \n",
        "                   loss = \"sparse_categorical_crossentropy\")\n",
        "checkpoint_path = os.path.join(root_dir, \"checkpoint\", \"oxford_segmentation.h5\")\n",
        "callbacks = [keras.callbacks.ModelCheckpoint(checkpoint_path, \n",
        "                                             save_best_only = True)]\n",
        "\n",
        "model_history = unet_model.fit(train_generator, \n",
        "                               epochs = epochs, \n",
        "                               validation_data = valid_generator, \n",
        "                               callbacks = callbacks)"
      ],
      "execution_count": 0,
      "outputs": [
        {
          "output_type": "stream",
          "text": [
            "Executing op TensorDataset in device /job:localhost/replica:0/task:0/device:CPU:0\n",
            "Executing op FlatMapDataset in device /job:localhost/replica:0/task:0/device:CPU:0\n",
            "Executing op PrefetchDataset in device /job:localhost/replica:0/task:0/device:CPU:0\n",
            "Executing op OptimizeDataset in device /job:localhost/replica:0/task:0/device:CPU:0\n",
            "Executing op ModelDataset in device /job:localhost/replica:0/task:0/device:CPU:0\n",
            "Executing op AnonymousIteratorV2 in device /job:localhost/replica:0/task:0/device:CPU:0\n",
            "Executing op MakeIterator in device /job:localhost/replica:0/task:0/device:CPU:0\n",
            "Executing op OptimizeDataset in device /job:localhost/replica:0/task:0/device:CPU:0\n",
            "Executing op ModelDataset in device /job:localhost/replica:0/task:0/device:CPU:0\n",
            "Executing op DeleteIterator in device /job:localhost/replica:0/task:0/device:CPU:0\n",
            "Epoch 1/15\n",
            "Executing op Fill in device /job:localhost/replica:0/task:0/device:GPU:0\n",
            "Executing op VarHandleOp in device /job:localhost/replica:0/task:0/device:GPU:0\n",
            "Executing op AssignVariableOp in device /job:localhost/replica:0/task:0/device:GPU:0\n",
            "Executing op VarHandleOp in device /job:localhost/replica:0/task:0/device:GPU:0\n",
            "Executing op VarHandleOp in device /job:localhost/replica:0/task:0/device:GPU:0\n",
            "Executing op VarHandleOp in device /job:localhost/replica:0/task:0/device:GPU:0\n",
            "Executing op VarHandleOp in device /job:localhost/replica:0/task:0/device:GPU:0\n",
            "Executing op VarHandleOp in device /job:localhost/replica:0/task:0/device:GPU:0\n",
            "Executing op LogicalNot in device /job:localhost/replica:0/task:0/device:GPU:0\n",
            "Executing op Assert in device /job:localhost/replica:0/task:0/device:GPU:0\n",
            "Executing op VarHandleOp in device /job:localhost/replica:0/task:0/device:GPU:0\n",
            "Executing op VarHandleOp in device /job:localhost/replica:0/task:0/device:GPU:0\n",
            "Executing op VarHandleOp in device /job:localhost/replica:0/task:0/device:GPU:0\n",
            "Executing op VarHandleOp in device /job:localhost/replica:0/task:0/device:GPU:0\n",
            "Executing op VarHandleOp in device /job:localhost/replica:0/task:0/device:GPU:0\n",
            "Executing op VarHandleOp in device /job:localhost/replica:0/task:0/device:GPU:0\n",
            "Executing op VarHandleOp in device /job:localhost/replica:0/task:0/device:GPU:0\n",
            "Executing op VarHandleOp in device /job:localhost/replica:0/task:0/device:GPU:0\n",
            "Executing op VarHandleOp in device /job:localhost/replica:0/task:0/device:GPU:0\n",
            "Executing op VarHandleOp in device /job:localhost/replica:0/task:0/device:GPU:0\n",
            "Executing op VarHandleOp in device /job:localhost/replica:0/task:0/device:GPU:0\n",
            "Executing op VarHandleOp in device /job:localhost/replica:0/task:0/device:GPU:0\n",
            "Executing op VarHandleOp in device /job:localhost/replica:0/task:0/device:GPU:0\n",
            "Executing op VarHandleOp in device /job:localhost/replica:0/task:0/device:GPU:0\n",
            "Executing op VarHandleOp in device /job:localhost/replica:0/task:0/device:GPU:0\n",
            "Executing op VarHandleOp in device /job:localhost/replica:0/task:0/device:GPU:0\n",
            "Executing op VarHandleOp in device /job:localhost/replica:0/task:0/device:GPU:0\n",
            "Executing op VarHandleOp in device /job:localhost/replica:0/task:0/device:GPU:0\n",
            "Executing op VarHandleOp in device /job:localhost/replica:0/task:0/device:GPU:0\n",
            "Executing op VarHandleOp in device /job:localhost/replica:0/task:0/device:GPU:0\n",
            "Executing op VarHandleOp in device /job:localhost/replica:0/task:0/device:GPU:0\n",
            "Executing op VarHandleOp in device /job:localhost/replica:0/task:0/device:GPU:0\n",
            "Executing op VarHandleOp in device /job:localhost/replica:0/task:0/device:GPU:0\n",
            "Executing op VarHandleOp in device /job:localhost/replica:0/task:0/device:GPU:0\n",
            "Executing op VarHandleOp in device /job:localhost/replica:0/task:0/device:GPU:0\n",
            "Executing op VarHandleOp in device /job:localhost/replica:0/task:0/device:GPU:0\n",
            "Executing op VarHandleOp in device /job:localhost/replica:0/task:0/device:GPU:0\n",
            "Executing op VarHandleOp in device /job:localhost/replica:0/task:0/device:GPU:0\n",
            "Executing op VarHandleOp in device /job:localhost/replica:0/task:0/device:GPU:0\n",
            "Executing op VarHandleOp in device /job:localhost/replica:0/task:0/device:GPU:0\n",
            "Executing op VarHandleOp in device /job:localhost/replica:0/task:0/device:GPU:0\n",
            "Executing op VarHandleOp in device /job:localhost/replica:0/task:0/device:GPU:0\n",
            "Executing op VarHandleOp in device /job:localhost/replica:0/task:0/device:GPU:0\n",
            "Executing op VarHandleOp in device /job:localhost/replica:0/task:0/device:GPU:0\n",
            "Executing op VarHandleOp in device /job:localhost/replica:0/task:0/device:GPU:0\n",
            "Executing op VarHandleOp in device /job:localhost/replica:0/task:0/device:GPU:0\n",
            "Executing op VarHandleOp in device /job:localhost/replica:0/task:0/device:GPU:0\n",
            "Executing op VarHandleOp in device /job:localhost/replica:0/task:0/device:GPU:0\n",
            "Executing op VarHandleOp in device /job:localhost/replica:0/task:0/device:GPU:0\n",
            "Executing op VarHandleOp in device /job:localhost/replica:0/task:0/device:GPU:0\n",
            "Executing op VarHandleOp in device /job:localhost/replica:0/task:0/device:GPU:0\n",
            "Executing op VarHandleOp in device /job:localhost/replica:0/task:0/device:GPU:0\n",
            "Executing op VarHandleOp in device /job:localhost/replica:0/task:0/device:GPU:0\n",
            "Executing op VarHandleOp in device /job:localhost/replica:0/task:0/device:GPU:0\n",
            "Executing op VarHandleOp in device /job:localhost/replica:0/task:0/device:GPU:0\n",
            "Executing op VarHandleOp in device /job:localhost/replica:0/task:0/device:GPU:0\n",
            "Executing op VarHandleOp in device /job:localhost/replica:0/task:0/device:GPU:0\n",
            "Executing op VarHandleOp in device /job:localhost/replica:0/task:0/device:GPU:0\n",
            "Executing op VarHandleOp in device /job:localhost/replica:0/task:0/device:GPU:0\n",
            "Executing op VarHandleOp in device /job:localhost/replica:0/task:0/device:GPU:0\n",
            "Executing op VarHandleOp in device /job:localhost/replica:0/task:0/device:GPU:0\n",
            "Executing op VarHandleOp in device /job:localhost/replica:0/task:0/device:GPU:0\n",
            "Executing op VarHandleOp in device /job:localhost/replica:0/task:0/device:GPU:0\n",
            "Executing op VarHandleOp in device /job:localhost/replica:0/task:0/device:GPU:0\n",
            "Executing op VarHandleOp in device /job:localhost/replica:0/task:0/device:GPU:0\n",
            "Executing op VarHandleOp in device /job:localhost/replica:0/task:0/device:GPU:0\n",
            "Executing op VarHandleOp in device /job:localhost/replica:0/task:0/device:GPU:0\n",
            "Executing op VarHandleOp in device /job:localhost/replica:0/task:0/device:GPU:0\n",
            "Executing op VarHandleOp in device /job:localhost/replica:0/task:0/device:GPU:0\n",
            "Executing op VarHandleOp in device /job:localhost/replica:0/task:0/device:GPU:0\n",
            "Executing op VarHandleOp in device /job:localhost/replica:0/task:0/device:GPU:0\n",
            "Executing op VarHandleOp in device /job:localhost/replica:0/task:0/device:GPU:0\n",
            "Executing op VarHandleOp in device /job:localhost/replica:0/task:0/device:GPU:0\n",
            "Executing op VarHandleOp in device /job:localhost/replica:0/task:0/device:GPU:0\n",
            "Executing op VarHandleOp in device /job:localhost/replica:0/task:0/device:GPU:0\n",
            "Executing op VarHandleOp in device /job:localhost/replica:0/task:0/device:GPU:0\n",
            "Executing op VarHandleOp in device /job:localhost/replica:0/task:0/device:GPU:0\n",
            "Executing op VarHandleOp in device /job:localhost/replica:0/task:0/device:GPU:0\n",
            "Executing op VarHandleOp in device /job:localhost/replica:0/task:0/device:GPU:0\n",
            "Executing op VarHandleOp in device /job:localhost/replica:0/task:0/device:GPU:0\n",
            "Executing op VarHandleOp in device /job:localhost/replica:0/task:0/device:GPU:0\n",
            "Executing op VarHandleOp in device /job:localhost/replica:0/task:0/device:GPU:0\n",
            "Executing op VarHandleOp in device /job:localhost/replica:0/task:0/device:GPU:0\n",
            "Executing op VarHandleOp in device /job:localhost/replica:0/task:0/device:GPU:0\n",
            "Executing op VarHandleOp in device /job:localhost/replica:0/task:0/device:GPU:0\n",
            "Executing op VarHandleOp in device /job:localhost/replica:0/task:0/device:GPU:0\n",
            "Executing op VarHandleOp in device /job:localhost/replica:0/task:0/device:GPU:0\n",
            "Executing op VarHandleOp in device /job:localhost/replica:0/task:0/device:GPU:0\n",
            "Executing op VarHandleOp in device /job:localhost/replica:0/task:0/device:GPU:0\n",
            "Executing op VarHandleOp in device /job:localhost/replica:0/task:0/device:GPU:0\n",
            "Executing op VarHandleOp in device /job:localhost/replica:0/task:0/device:GPU:0\n",
            "Executing op __inference_train_function_20011 in device /job:localhost/replica:0/task:0/device:GPU:0\n",
            "145/145 [==============================] - ETA: 0s - loss: 1.1348 Executing op TensorDataset in device /job:localhost/replica:0/task:0/device:CPU:0\n",
            "Executing op FlatMapDataset in device /job:localhost/replica:0/task:0/device:CPU:0\n",
            "Executing op PrefetchDataset in device /job:localhost/replica:0/task:0/device:CPU:0\n",
            "Executing op OptimizeDataset in device /job:localhost/replica:0/task:0/device:CPU:0\n",
            "Executing op ModelDataset in device /job:localhost/replica:0/task:0/device:CPU:0\n",
            "Executing op OptimizeDataset in device /job:localhost/replica:0/task:0/device:CPU:0\n",
            "Executing op ModelDataset in device /job:localhost/replica:0/task:0/device:CPU:0\n",
            "Executing op __inference_test_function_20916 in device /job:localhost/replica:0/task:0/device:GPU:0\n",
            "Executing op ReadVariableOp in device /job:localhost/replica:0/task:0/device:GPU:0\n",
            "Executing op Identity in device /job:localhost/replica:0/task:0/device:GPU:0\n",
            "Executing op ReadVariableOp in device /job:localhost/replica:0/task:0/device:GPU:0\n",
            "Executing op Identity in device /job:localhost/replica:0/task:0/device:GPU:0\n",
            "145/145 [==============================] - 2530s 17s/step - loss: 1.1348 - val_loss: 3.1184\n",
            "Executing op OptimizeDataset in device /job:localhost/replica:0/task:0/device:CPU:0\n",
            "Executing op ModelDataset in device /job:localhost/replica:0/task:0/device:CPU:0\n",
            "Epoch 2/15\n",
            "145/145 [==============================] - ETA: 0s - loss: 0.5611Executing op TensorDataset in device /job:localhost/replica:0/task:0/device:CPU:0\n",
            "Executing op FlatMapDataset in device /job:localhost/replica:0/task:0/device:CPU:0\n",
            "Executing op PrefetchDataset in device /job:localhost/replica:0/task:0/device:CPU:0\n",
            "Executing op OptimizeDataset in device /job:localhost/replica:0/task:0/device:CPU:0\n",
            "Executing op ModelDataset in device /job:localhost/replica:0/task:0/device:CPU:0\n",
            "Executing op OptimizeDataset in device /job:localhost/replica:0/task:0/device:CPU:0\n",
            "Executing op ModelDataset in device /job:localhost/replica:0/task:0/device:CPU:0\n",
            "145/145 [==============================] - 60s 412ms/step - loss: 0.5611 - val_loss: 3.2346\n",
            "Executing op OptimizeDataset in device /job:localhost/replica:0/task:0/device:CPU:0\n",
            "Executing op ModelDataset in device /job:localhost/replica:0/task:0/device:CPU:0\n",
            "Epoch 3/15\n",
            "145/145 [==============================] - ETA: 0s - loss: 0.4702Executing op TensorDataset in device /job:localhost/replica:0/task:0/device:CPU:0\n",
            "Executing op FlatMapDataset in device /job:localhost/replica:0/task:0/device:CPU:0\n",
            "Executing op PrefetchDataset in device /job:localhost/replica:0/task:0/device:CPU:0\n",
            "Executing op OptimizeDataset in device /job:localhost/replica:0/task:0/device:CPU:0\n",
            "Executing op ModelDataset in device /job:localhost/replica:0/task:0/device:CPU:0\n",
            "Executing op OptimizeDataset in device /job:localhost/replica:0/task:0/device:CPU:0\n",
            "Executing op ModelDataset in device /job:localhost/replica:0/task:0/device:CPU:0\n",
            "145/145 [==============================] - 60s 411ms/step - loss: 0.4702 - val_loss: 2.1755\n",
            "Executing op OptimizeDataset in device /job:localhost/replica:0/task:0/device:CPU:0\n",
            "Executing op ModelDataset in device /job:localhost/replica:0/task:0/device:CPU:0\n",
            "Epoch 4/15\n",
            "145/145 [==============================] - ETA: 0s - loss: 0.4216Executing op TensorDataset in device /job:localhost/replica:0/task:0/device:CPU:0\n",
            "Executing op FlatMapDataset in device /job:localhost/replica:0/task:0/device:CPU:0\n",
            "Executing op PrefetchDataset in device /job:localhost/replica:0/task:0/device:CPU:0\n",
            "Executing op OptimizeDataset in device /job:localhost/replica:0/task:0/device:CPU:0\n",
            "Executing op ModelDataset in device /job:localhost/replica:0/task:0/device:CPU:0\n",
            "Executing op OptimizeDataset in device /job:localhost/replica:0/task:0/device:CPU:0\n",
            "Executing op ModelDataset in device /job:localhost/replica:0/task:0/device:CPU:0\n",
            "145/145 [==============================] - 59s 409ms/step - loss: 0.4216 - val_loss: 0.4981\n",
            "Executing op OptimizeDataset in device /job:localhost/replica:0/task:0/device:CPU:0\n",
            "Executing op ModelDataset in device /job:localhost/replica:0/task:0/device:CPU:0\n",
            "Epoch 5/15\n",
            "145/145 [==============================] - ETA: 0s - loss: 0.3821Executing op TensorDataset in device /job:localhost/replica:0/task:0/device:CPU:0\n",
            "Executing op FlatMapDataset in device /job:localhost/replica:0/task:0/device:CPU:0\n",
            "Executing op PrefetchDataset in device /job:localhost/replica:0/task:0/device:CPU:0\n",
            "Executing op OptimizeDataset in device /job:localhost/replica:0/task:0/device:CPU:0\n",
            "Executing op ModelDataset in device /job:localhost/replica:0/task:0/device:CPU:0\n",
            "Executing op OptimizeDataset in device /job:localhost/replica:0/task:0/device:CPU:0\n",
            "Executing op ModelDataset in device /job:localhost/replica:0/task:0/device:CPU:0\n",
            "145/145 [==============================] - 59s 410ms/step - loss: 0.3821 - val_loss: 0.5064\n",
            "Executing op OptimizeDataset in device /job:localhost/replica:0/task:0/device:CPU:0\n",
            "Executing op ModelDataset in device /job:localhost/replica:0/task:0/device:CPU:0\n",
            "Epoch 6/15\n",
            "145/145 [==============================] - ETA: 0s - loss: 0.3496Executing op TensorDataset in device /job:localhost/replica:0/task:0/device:CPU:0\n",
            "Executing op FlatMapDataset in device /job:localhost/replica:0/task:0/device:CPU:0\n",
            "Executing op PrefetchDataset in device /job:localhost/replica:0/task:0/device:CPU:0\n",
            "Executing op OptimizeDataset in device /job:localhost/replica:0/task:0/device:CPU:0\n",
            "Executing op ModelDataset in device /job:localhost/replica:0/task:0/device:CPU:0\n",
            "Executing op OptimizeDataset in device /job:localhost/replica:0/task:0/device:CPU:0\n",
            "Executing op ModelDataset in device /job:localhost/replica:0/task:0/device:CPU:0\n",
            "145/145 [==============================] - 60s 412ms/step - loss: 0.3496 - val_loss: 0.4112\n",
            "Executing op OptimizeDataset in device /job:localhost/replica:0/task:0/device:CPU:0\n",
            "Executing op ModelDataset in device /job:localhost/replica:0/task:0/device:CPU:0\n",
            "Epoch 7/15\n",
            "145/145 [==============================] - ETA: 0s - loss: 0.3191Executing op TensorDataset in device /job:localhost/replica:0/task:0/device:CPU:0\n",
            "Executing op FlatMapDataset in device /job:localhost/replica:0/task:0/device:CPU:0\n",
            "Executing op PrefetchDataset in device /job:localhost/replica:0/task:0/device:CPU:0\n",
            "Executing op OptimizeDataset in device /job:localhost/replica:0/task:0/device:CPU:0\n",
            "Executing op ModelDataset in device /job:localhost/replica:0/task:0/device:CPU:0\n",
            "Executing op OptimizeDataset in device /job:localhost/replica:0/task:0/device:CPU:0\n",
            "Executing op ModelDataset in device /job:localhost/replica:0/task:0/device:CPU:0\n",
            "145/145 [==============================] - 60s 411ms/step - loss: 0.3191 - val_loss: 0.3779\n",
            "Executing op OptimizeDataset in device /job:localhost/replica:0/task:0/device:CPU:0\n",
            "Executing op ModelDataset in device /job:localhost/replica:0/task:0/device:CPU:0\n",
            "Epoch 8/15\n",
            "145/145 [==============================] - ETA: 0s - loss: 0.2939Executing op TensorDataset in device /job:localhost/replica:0/task:0/device:CPU:0\n",
            "Executing op FlatMapDataset in device /job:localhost/replica:0/task:0/device:CPU:0\n",
            "Executing op PrefetchDataset in device /job:localhost/replica:0/task:0/device:CPU:0\n",
            "Executing op OptimizeDataset in device /job:localhost/replica:0/task:0/device:CPU:0\n",
            "Executing op ModelDataset in device /job:localhost/replica:0/task:0/device:CPU:0\n",
            "Executing op OptimizeDataset in device /job:localhost/replica:0/task:0/device:CPU:0\n",
            "Executing op ModelDataset in device /job:localhost/replica:0/task:0/device:CPU:0\n",
            "145/145 [==============================] - 59s 408ms/step - loss: 0.2939 - val_loss: 0.3925\n",
            "Executing op OptimizeDataset in device /job:localhost/replica:0/task:0/device:CPU:0\n",
            "Executing op ModelDataset in device /job:localhost/replica:0/task:0/device:CPU:0\n",
            "Epoch 9/15\n",
            "145/145 [==============================] - ETA: 0s - loss: 0.2726Executing op TensorDataset in device /job:localhost/replica:0/task:0/device:CPU:0\n",
            "Executing op FlatMapDataset in device /job:localhost/replica:0/task:0/device:CPU:0\n",
            "Executing op PrefetchDataset in device /job:localhost/replica:0/task:0/device:CPU:0\n",
            "Executing op OptimizeDataset in device /job:localhost/replica:0/task:0/device:CPU:0\n",
            "Executing op ModelDataset in device /job:localhost/replica:0/task:0/device:CPU:0\n",
            "Executing op OptimizeDataset in device /job:localhost/replica:0/task:0/device:CPU:0\n",
            "Executing op ModelDataset in device /job:localhost/replica:0/task:0/device:CPU:0\n",
            "145/145 [==============================] - 59s 406ms/step - loss: 0.2726 - val_loss: 0.4730\n",
            "Executing op OptimizeDataset in device /job:localhost/replica:0/task:0/device:CPU:0\n",
            "Executing op ModelDataset in device /job:localhost/replica:0/task:0/device:CPU:0\n",
            "Epoch 10/15\n",
            "145/145 [==============================] - ETA: 0s - loss: 0.2571Executing op TensorDataset in device /job:localhost/replica:0/task:0/device:CPU:0\n",
            "Executing op FlatMapDataset in device /job:localhost/replica:0/task:0/device:CPU:0\n",
            "Executing op PrefetchDataset in device /job:localhost/replica:0/task:0/device:CPU:0\n",
            "Executing op OptimizeDataset in device /job:localhost/replica:0/task:0/device:CPU:0\n",
            "Executing op ModelDataset in device /job:localhost/replica:0/task:0/device:CPU:0\n",
            "Executing op OptimizeDataset in device /job:localhost/replica:0/task:0/device:CPU:0\n",
            "Executing op ModelDataset in device /job:localhost/replica:0/task:0/device:CPU:0\n",
            "145/145 [==============================] - 59s 410ms/step - loss: 0.2571 - val_loss: 0.4331\n",
            "Executing op OptimizeDataset in device /job:localhost/replica:0/task:0/device:CPU:0\n",
            "Executing op ModelDataset in device /job:localhost/replica:0/task:0/device:CPU:0\n",
            "Epoch 11/15\n",
            "145/145 [==============================] - ETA: 0s - loss: 0.2403Executing op TensorDataset in device /job:localhost/replica:0/task:0/device:CPU:0\n",
            "Executing op FlatMapDataset in device /job:localhost/replica:0/task:0/device:CPU:0\n",
            "Executing op PrefetchDataset in device /job:localhost/replica:0/task:0/device:CPU:0\n",
            "Executing op OptimizeDataset in device /job:localhost/replica:0/task:0/device:CPU:0\n",
            "Executing op ModelDataset in device /job:localhost/replica:0/task:0/device:CPU:0\n",
            "Executing op OptimizeDataset in device /job:localhost/replica:0/task:0/device:CPU:0\n",
            "Executing op ModelDataset in device /job:localhost/replica:0/task:0/device:CPU:0\n",
            "145/145 [==============================] - 59s 408ms/step - loss: 0.2403 - val_loss: 0.4591\n",
            "Executing op OptimizeDataset in device /job:localhost/replica:0/task:0/device:CPU:0\n",
            "Executing op ModelDataset in device /job:localhost/replica:0/task:0/device:CPU:0\n",
            "Epoch 12/15\n",
            "145/145 [==============================] - ETA: 0s - loss: 0.2245Executing op TensorDataset in device /job:localhost/replica:0/task:0/device:CPU:0\n",
            "Executing op FlatMapDataset in device /job:localhost/replica:0/task:0/device:CPU:0\n",
            "Executing op PrefetchDataset in device /job:localhost/replica:0/task:0/device:CPU:0\n",
            "Executing op OptimizeDataset in device /job:localhost/replica:0/task:0/device:CPU:0\n",
            "Executing op ModelDataset in device /job:localhost/replica:0/task:0/device:CPU:0\n",
            "Executing op OptimizeDataset in device /job:localhost/replica:0/task:0/device:CPU:0\n",
            "Executing op ModelDataset in device /job:localhost/replica:0/task:0/device:CPU:0\n",
            "145/145 [==============================] - 59s 408ms/step - loss: 0.2245 - val_loss: 0.4367\n",
            "Executing op OptimizeDataset in device /job:localhost/replica:0/task:0/device:CPU:0\n",
            "Executing op ModelDataset in device /job:localhost/replica:0/task:0/device:CPU:0\n",
            "Epoch 13/15\n",
            "145/145 [==============================] - ETA: 0s - loss: 0.2127Executing op TensorDataset in device /job:localhost/replica:0/task:0/device:CPU:0\n",
            "Executing op FlatMapDataset in device /job:localhost/replica:0/task:0/device:CPU:0\n",
            "Executing op PrefetchDataset in device /job:localhost/replica:0/task:0/device:CPU:0\n",
            "Executing op OptimizeDataset in device /job:localhost/replica:0/task:0/device:CPU:0\n",
            "Executing op ModelDataset in device /job:localhost/replica:0/task:0/device:CPU:0\n",
            "Executing op OptimizeDataset in device /job:localhost/replica:0/task:0/device:CPU:0\n",
            "Executing op ModelDataset in device /job:localhost/replica:0/task:0/device:CPU:0\n",
            "145/145 [==============================] - 59s 406ms/step - loss: 0.2127 - val_loss: 0.4159\n",
            "Executing op OptimizeDataset in device /job:localhost/replica:0/task:0/device:CPU:0\n",
            "Executing op ModelDataset in device /job:localhost/replica:0/task:0/device:CPU:0\n",
            "Epoch 14/15\n",
            "145/145 [==============================] - ETA: 0s - loss: 0.2065Executing op TensorDataset in device /job:localhost/replica:0/task:0/device:CPU:0\n",
            "Executing op FlatMapDataset in device /job:localhost/replica:0/task:0/device:CPU:0\n",
            "Executing op PrefetchDataset in device /job:localhost/replica:0/task:0/device:CPU:0\n",
            "Executing op OptimizeDataset in device /job:localhost/replica:0/task:0/device:CPU:0\n",
            "Executing op ModelDataset in device /job:localhost/replica:0/task:0/device:CPU:0\n",
            "Executing op OptimizeDataset in device /job:localhost/replica:0/task:0/device:CPU:0\n",
            "Executing op ModelDataset in device /job:localhost/replica:0/task:0/device:CPU:0\n",
            "145/145 [==============================] - 59s 407ms/step - loss: 0.2065 - val_loss: 0.4179\n",
            "Executing op OptimizeDataset in device /job:localhost/replica:0/task:0/device:CPU:0\n",
            "Executing op ModelDataset in device /job:localhost/replica:0/task:0/device:CPU:0\n",
            "Epoch 15/15\n",
            "145/145 [==============================] - ETA: 0s - loss: 0.1926Executing op TensorDataset in device /job:localhost/replica:0/task:0/device:CPU:0\n",
            "Executing op FlatMapDataset in device /job:localhost/replica:0/task:0/device:CPU:0\n",
            "Executing op PrefetchDataset in device /job:localhost/replica:0/task:0/device:CPU:0\n",
            "Executing op OptimizeDataset in device /job:localhost/replica:0/task:0/device:CPU:0\n",
            "Executing op ModelDataset in device /job:localhost/replica:0/task:0/device:CPU:0\n",
            "Executing op OptimizeDataset in device /job:localhost/replica:0/task:0/device:CPU:0\n",
            "Executing op ModelDataset in device /job:localhost/replica:0/task:0/device:CPU:0\n",
            "145/145 [==============================] - 59s 408ms/step - loss: 0.1926 - val_loss: 0.4512\n"
          ],
          "name": "stdout"
        },
        {
          "output_type": "execute_result",
          "data": {
            "text/plain": [
              "<tensorflow.python.keras.callbacks.History at 0x7fc94e350828>"
            ]
          },
          "metadata": {
            "tags": []
          },
          "execution_count": 96
        }
      ]
    },
    {
      "cell_type": "markdown",
      "metadata": {
        "id": "4PLtw76TAq1W",
        "colab_type": "text"
      },
      "source": [
        "---\n",
        "# 05. Model Prediction "
      ]
    },
    {
      "cell_type": "code",
      "metadata": {
        "id": "YoVzRYjBmVQJ",
        "colab_type": "code",
        "outputId": "107d1d64-a1de-48da-b323-ca2921699658",
        "colab": {
          "base_uri": "https://localhost:8080/",
          "height": 1000
        }
      },
      "source": [
        "# load the saved model\n",
        "checkpoint_path = os.path.join(root_dir, \"checkpoint\", \"oxford_segmentation.h5\")\n",
        "unet_model = tf.keras.models.load_model(checkpoint_path)"
      ],
      "execution_count": 5,
      "outputs": [
        {
          "output_type": "stream",
          "text": [
            "Executing op RandomUniform in device /job:localhost/replica:0/task:0/device:GPU:0\n",
            "Executing op Sub in device /job:localhost/replica:0/task:0/device:GPU:0\n",
            "Executing op Mul in device /job:localhost/replica:0/task:0/device:GPU:0\n",
            "Executing op Add in device /job:localhost/replica:0/task:0/device:GPU:0\n",
            "Executing op VarHandleOp in device /job:localhost/replica:0/task:0/device:GPU:0\n",
            "Executing op VarIsInitializedOp in device /job:localhost/replica:0/task:0/device:GPU:0\n",
            "Executing op LogicalNot in device /job:localhost/replica:0/task:0/device:GPU:0\n",
            "Executing op Assert in device /job:localhost/replica:0/task:0/device:GPU:0\n",
            "Executing op AssignVariableOp in device /job:localhost/replica:0/task:0/device:GPU:0\n",
            "Executing op Fill in device /job:localhost/replica:0/task:0/device:GPU:0\n",
            "Executing op VarHandleOp in device /job:localhost/replica:0/task:0/device:GPU:0\n",
            "Executing op VarHandleOp in device /job:localhost/replica:0/task:0/device:GPU:0\n",
            "Executing op VarHandleOp in device /job:localhost/replica:0/task:0/device:GPU:0\n",
            "Executing op VarHandleOp in device /job:localhost/replica:0/task:0/device:GPU:0\n",
            "Executing op VarHandleOp in device /job:localhost/replica:0/task:0/device:GPU:0\n",
            "Executing op VarHandleOp in device /job:localhost/replica:0/task:0/device:GPU:0\n",
            "Executing op VarHandleOp in device /job:localhost/replica:0/task:0/device:GPU:0\n",
            "Executing op VarHandleOp in device /job:localhost/replica:0/task:0/device:GPU:0\n",
            "Executing op VarHandleOp in device /job:localhost/replica:0/task:0/device:GPU:0\n",
            "Executing op VarHandleOp in device /job:localhost/replica:0/task:0/device:GPU:0\n",
            "Executing op VarHandleOp in device /job:localhost/replica:0/task:0/device:GPU:0\n",
            "Executing op VarHandleOp in device /job:localhost/replica:0/task:0/device:GPU:0\n",
            "Executing op VarHandleOp in device /job:localhost/replica:0/task:0/device:GPU:0\n",
            "Executing op VarHandleOp in device /job:localhost/replica:0/task:0/device:GPU:0\n",
            "Executing op VarHandleOp in device /job:localhost/replica:0/task:0/device:GPU:0\n",
            "Executing op VarHandleOp in device /job:localhost/replica:0/task:0/device:GPU:0\n",
            "Executing op VarHandleOp in device /job:localhost/replica:0/task:0/device:GPU:0\n",
            "Executing op VarHandleOp in device /job:localhost/replica:0/task:0/device:GPU:0\n",
            "Executing op VarHandleOp in device /job:localhost/replica:0/task:0/device:GPU:0\n",
            "Executing op VarHandleOp in device /job:localhost/replica:0/task:0/device:GPU:0\n",
            "Executing op VarHandleOp in device /job:localhost/replica:0/task:0/device:GPU:0\n",
            "Executing op VarHandleOp in device /job:localhost/replica:0/task:0/device:GPU:0\n",
            "Executing op VarHandleOp in device /job:localhost/replica:0/task:0/device:GPU:0\n",
            "Executing op VarHandleOp in device /job:localhost/replica:0/task:0/device:GPU:0\n",
            "Executing op VarHandleOp in device /job:localhost/replica:0/task:0/device:GPU:0\n",
            "Executing op VarHandleOp in device /job:localhost/replica:0/task:0/device:GPU:0\n",
            "Executing op VarHandleOp in device /job:localhost/replica:0/task:0/device:GPU:0\n",
            "Executing op Fill in device /job:localhost/replica:0/task:0/device:GPU:0\n",
            "Executing op VarHandleOp in device /job:localhost/replica:0/task:0/device:GPU:0\n",
            "Executing op AssignVariableOp in device /job:localhost/replica:0/task:0/device:GPU:0\n",
            "Executing op Fill in device /job:localhost/replica:0/task:0/device:GPU:0\n",
            "Executing op VarHandleOp in device /job:localhost/replica:0/task:0/device:GPU:0\n",
            "Executing op LogicalNot in device /job:localhost/replica:0/task:0/device:GPU:0\n",
            "Executing op Assert in device /job:localhost/replica:0/task:0/device:GPU:0\n",
            "Executing op VarHandleOp in device /job:localhost/replica:0/task:0/device:GPU:0\n",
            "Executing op VarHandleOp in device /job:localhost/replica:0/task:0/device:GPU:0\n",
            "Executing op VarHandleOp in device /job:localhost/replica:0/task:0/device:GPU:0\n",
            "Executing op VarHandleOp in device /job:localhost/replica:0/task:0/device:GPU:0\n",
            "Executing op VarHandleOp in device /job:localhost/replica:0/task:0/device:GPU:0\n",
            "Executing op VarHandleOp in device /job:localhost/replica:0/task:0/device:GPU:0\n",
            "Executing op VarHandleOp in device /job:localhost/replica:0/task:0/device:GPU:0\n",
            "Executing op VarHandleOp in device /job:localhost/replica:0/task:0/device:GPU:0\n",
            "Executing op VarHandleOp in device /job:localhost/replica:0/task:0/device:GPU:0\n",
            "Executing op VarHandleOp in device /job:localhost/replica:0/task:0/device:GPU:0\n",
            "Executing op VarHandleOp in device /job:localhost/replica:0/task:0/device:GPU:0\n",
            "Executing op VarHandleOp in device /job:localhost/replica:0/task:0/device:GPU:0\n",
            "Executing op VarHandleOp in device /job:localhost/replica:0/task:0/device:GPU:0\n",
            "Executing op VarHandleOp in device /job:localhost/replica:0/task:0/device:GPU:0\n",
            "Executing op VarHandleOp in device /job:localhost/replica:0/task:0/device:GPU:0\n",
            "Executing op VarHandleOp in device /job:localhost/replica:0/task:0/device:GPU:0\n",
            "Executing op VarHandleOp in device /job:localhost/replica:0/task:0/device:GPU:0\n",
            "Executing op VarHandleOp in device /job:localhost/replica:0/task:0/device:GPU:0\n",
            "Executing op VarHandleOp in device /job:localhost/replica:0/task:0/device:GPU:0\n",
            "Executing op VarHandleOp in device /job:localhost/replica:0/task:0/device:GPU:0\n",
            "Executing op VarHandleOp in device /job:localhost/replica:0/task:0/device:GPU:0\n",
            "Executing op VarHandleOp in device /job:localhost/replica:0/task:0/device:GPU:0\n",
            "Executing op VarHandleOp in device /job:localhost/replica:0/task:0/device:GPU:0\n",
            "Executing op VarHandleOp in device /job:localhost/replica:0/task:0/device:GPU:0\n",
            "Executing op VarHandleOp in device /job:localhost/replica:0/task:0/device:GPU:0\n",
            "Executing op VarHandleOp in device /job:localhost/replica:0/task:0/device:GPU:0\n",
            "Executing op ReadVariableOp in device /job:localhost/replica:0/task:0/device:GPU:0\n",
            "Executing op Identity in device /job:localhost/replica:0/task:0/device:GPU:0\n",
            "Executing op ReadVariableOp in device /job:localhost/replica:0/task:0/device:GPU:0\n",
            "Executing op Identity in device /job:localhost/replica:0/task:0/device:GPU:0\n"
          ],
          "name": "stdout"
        }
      ]
    },
    {
      "cell_type": "code",
      "metadata": {
        "id": "44MEiQ4n-7RA",
        "colab_type": "code",
        "outputId": "cd3e5b0b-4a58-4975-aefb-f54b2b66e0ca",
        "colab": {
          "base_uri": "https://localhost:8080/",
          "height": 1000
        }
      },
      "source": [
        "unet_model.summary()"
      ],
      "execution_count": 0,
      "outputs": [
        {
          "output_type": "stream",
          "text": [
            "Model: \"model_3\"\n",
            "__________________________________________________________________________________________________\n",
            "Layer (type)                    Output Shape         Param #     Connected to                     \n",
            "==================================================================================================\n",
            "input_12 (InputLayer)           [(None, 160, 160, 3) 0                                            \n",
            "__________________________________________________________________________________________________\n",
            "conv2d_47 (Conv2D)              (None, 80, 80, 32)   896         input_12[0][0]                   \n",
            "__________________________________________________________________________________________________\n",
            "batch_normalization_76 (BatchNo (None, 80, 80, 32)   128         conv2d_47[0][0]                  \n",
            "__________________________________________________________________________________________________\n",
            "activation_77 (Activation)      (None, 80, 80, 32)   0           batch_normalization_76[0][0]     \n",
            "__________________________________________________________________________________________________\n",
            "activation_78 (Activation)      (None, 80, 80, 32)   0           activation_77[0][0]              \n",
            "__________________________________________________________________________________________________\n",
            "separable_conv2d_34 (SeparableC (None, 80, 80, 64)   2400        activation_78[0][0]              \n",
            "__________________________________________________________________________________________________\n",
            "batch_normalization_77 (BatchNo (None, 80, 80, 64)   256         separable_conv2d_34[0][0]        \n",
            "__________________________________________________________________________________________________\n",
            "activation_79 (Activation)      (None, 80, 80, 64)   0           batch_normalization_77[0][0]     \n",
            "__________________________________________________________________________________________________\n",
            "separable_conv2d_35 (SeparableC (None, 80, 80, 64)   4736        activation_79[0][0]              \n",
            "__________________________________________________________________________________________________\n",
            "batch_normalization_78 (BatchNo (None, 80, 80, 64)   256         separable_conv2d_35[0][0]        \n",
            "__________________________________________________________________________________________________\n",
            "max_pooling2d_16 (MaxPooling2D) (None, 40, 40, 64)   0           batch_normalization_78[0][0]     \n",
            "__________________________________________________________________________________________________\n",
            "conv2d_48 (Conv2D)              (None, 40, 40, 64)   2112        activation_77[0][0]              \n",
            "__________________________________________________________________________________________________\n",
            "add_32 (Add)                    (None, 40, 40, 64)   0           max_pooling2d_16[0][0]           \n",
            "                                                                 conv2d_48[0][0]                  \n",
            "__________________________________________________________________________________________________\n",
            "activation_80 (Activation)      (None, 40, 40, 64)   0           add_32[0][0]                     \n",
            "__________________________________________________________________________________________________\n",
            "separable_conv2d_36 (SeparableC (None, 40, 40, 128)  8896        activation_80[0][0]              \n",
            "__________________________________________________________________________________________________\n",
            "batch_normalization_79 (BatchNo (None, 40, 40, 128)  512         separable_conv2d_36[0][0]        \n",
            "__________________________________________________________________________________________________\n",
            "activation_81 (Activation)      (None, 40, 40, 128)  0           batch_normalization_79[0][0]     \n",
            "__________________________________________________________________________________________________\n",
            "separable_conv2d_37 (SeparableC (None, 40, 40, 128)  17664       activation_81[0][0]              \n",
            "__________________________________________________________________________________________________\n",
            "batch_normalization_80 (BatchNo (None, 40, 40, 128)  512         separable_conv2d_37[0][0]        \n",
            "__________________________________________________________________________________________________\n",
            "max_pooling2d_17 (MaxPooling2D) (None, 20, 20, 128)  0           batch_normalization_80[0][0]     \n",
            "__________________________________________________________________________________________________\n",
            "conv2d_49 (Conv2D)              (None, 20, 20, 128)  8320        add_32[0][0]                     \n",
            "__________________________________________________________________________________________________\n",
            "add_33 (Add)                    (None, 20, 20, 128)  0           max_pooling2d_17[0][0]           \n",
            "                                                                 conv2d_49[0][0]                  \n",
            "__________________________________________________________________________________________________\n",
            "activation_82 (Activation)      (None, 20, 20, 128)  0           add_33[0][0]                     \n",
            "__________________________________________________________________________________________________\n",
            "separable_conv2d_38 (SeparableC (None, 20, 20, 256)  34176       activation_82[0][0]              \n",
            "__________________________________________________________________________________________________\n",
            "batch_normalization_81 (BatchNo (None, 20, 20, 256)  1024        separable_conv2d_38[0][0]        \n",
            "__________________________________________________________________________________________________\n",
            "activation_83 (Activation)      (None, 20, 20, 256)  0           batch_normalization_81[0][0]     \n",
            "__________________________________________________________________________________________________\n",
            "separable_conv2d_39 (SeparableC (None, 20, 20, 256)  68096       activation_83[0][0]              \n",
            "__________________________________________________________________________________________________\n",
            "batch_normalization_82 (BatchNo (None, 20, 20, 256)  1024        separable_conv2d_39[0][0]        \n",
            "__________________________________________________________________________________________________\n",
            "max_pooling2d_18 (MaxPooling2D) (None, 10, 10, 256)  0           batch_normalization_82[0][0]     \n",
            "__________________________________________________________________________________________________\n",
            "conv2d_50 (Conv2D)              (None, 10, 10, 256)  33024       add_33[0][0]                     \n",
            "__________________________________________________________________________________________________\n",
            "add_34 (Add)                    (None, 10, 10, 256)  0           max_pooling2d_18[0][0]           \n",
            "                                                                 conv2d_50[0][0]                  \n",
            "__________________________________________________________________________________________________\n",
            "activation_84 (Activation)      (None, 10, 10, 256)  0           add_34[0][0]                     \n",
            "__________________________________________________________________________________________________\n",
            "conv2d_transpose_32 (Conv2DTran (None, 10, 10, 256)  590080      activation_84[0][0]              \n",
            "__________________________________________________________________________________________________\n",
            "batch_normalization_83 (BatchNo (None, 10, 10, 256)  1024        conv2d_transpose_32[0][0]        \n",
            "__________________________________________________________________________________________________\n",
            "activation_85 (Activation)      (None, 10, 10, 256)  0           batch_normalization_83[0][0]     \n",
            "__________________________________________________________________________________________________\n",
            "conv2d_transpose_33 (Conv2DTran (None, 10, 10, 256)  590080      activation_85[0][0]              \n",
            "__________________________________________________________________________________________________\n",
            "batch_normalization_84 (BatchNo (None, 10, 10, 256)  1024        conv2d_transpose_33[0][0]        \n",
            "__________________________________________________________________________________________________\n",
            "up_sampling2d_33 (UpSampling2D) (None, 20, 20, 256)  0           add_34[0][0]                     \n",
            "__________________________________________________________________________________________________\n",
            "up_sampling2d_32 (UpSampling2D) (None, 20, 20, 256)  0           batch_normalization_84[0][0]     \n",
            "__________________________________________________________________________________________________\n",
            "conv2d_51 (Conv2D)              (None, 20, 20, 256)  65792       up_sampling2d_33[0][0]           \n",
            "__________________________________________________________________________________________________\n",
            "add_35 (Add)                    (None, 20, 20, 256)  0           up_sampling2d_32[0][0]           \n",
            "                                                                 conv2d_51[0][0]                  \n",
            "__________________________________________________________________________________________________\n",
            "activation_86 (Activation)      (None, 20, 20, 256)  0           add_35[0][0]                     \n",
            "__________________________________________________________________________________________________\n",
            "conv2d_transpose_34 (Conv2DTran (None, 20, 20, 128)  295040      activation_86[0][0]              \n",
            "__________________________________________________________________________________________________\n",
            "batch_normalization_85 (BatchNo (None, 20, 20, 128)  512         conv2d_transpose_34[0][0]        \n",
            "__________________________________________________________________________________________________\n",
            "activation_87 (Activation)      (None, 20, 20, 128)  0           batch_normalization_85[0][0]     \n",
            "__________________________________________________________________________________________________\n",
            "conv2d_transpose_35 (Conv2DTran (None, 20, 20, 128)  147584      activation_87[0][0]              \n",
            "__________________________________________________________________________________________________\n",
            "batch_normalization_86 (BatchNo (None, 20, 20, 128)  512         conv2d_transpose_35[0][0]        \n",
            "__________________________________________________________________________________________________\n",
            "up_sampling2d_35 (UpSampling2D) (None, 40, 40, 256)  0           add_35[0][0]                     \n",
            "__________________________________________________________________________________________________\n",
            "up_sampling2d_34 (UpSampling2D) (None, 40, 40, 128)  0           batch_normalization_86[0][0]     \n",
            "__________________________________________________________________________________________________\n",
            "conv2d_52 (Conv2D)              (None, 40, 40, 128)  32896       up_sampling2d_35[0][0]           \n",
            "__________________________________________________________________________________________________\n",
            "add_36 (Add)                    (None, 40, 40, 128)  0           up_sampling2d_34[0][0]           \n",
            "                                                                 conv2d_52[0][0]                  \n",
            "__________________________________________________________________________________________________\n",
            "activation_88 (Activation)      (None, 40, 40, 128)  0           add_36[0][0]                     \n",
            "__________________________________________________________________________________________________\n",
            "conv2d_transpose_36 (Conv2DTran (None, 40, 40, 64)   73792       activation_88[0][0]              \n",
            "__________________________________________________________________________________________________\n",
            "batch_normalization_87 (BatchNo (None, 40, 40, 64)   256         conv2d_transpose_36[0][0]        \n",
            "__________________________________________________________________________________________________\n",
            "activation_89 (Activation)      (None, 40, 40, 64)   0           batch_normalization_87[0][0]     \n",
            "__________________________________________________________________________________________________\n",
            "conv2d_transpose_37 (Conv2DTran (None, 40, 40, 64)   36928       activation_89[0][0]              \n",
            "__________________________________________________________________________________________________\n",
            "batch_normalization_88 (BatchNo (None, 40, 40, 64)   256         conv2d_transpose_37[0][0]        \n",
            "__________________________________________________________________________________________________\n",
            "up_sampling2d_37 (UpSampling2D) (None, 80, 80, 128)  0           add_36[0][0]                     \n",
            "__________________________________________________________________________________________________\n",
            "up_sampling2d_36 (UpSampling2D) (None, 80, 80, 64)   0           batch_normalization_88[0][0]     \n",
            "__________________________________________________________________________________________________\n",
            "conv2d_53 (Conv2D)              (None, 80, 80, 64)   8256        up_sampling2d_37[0][0]           \n",
            "__________________________________________________________________________________________________\n",
            "add_37 (Add)                    (None, 80, 80, 64)   0           up_sampling2d_36[0][0]           \n",
            "                                                                 conv2d_53[0][0]                  \n",
            "__________________________________________________________________________________________________\n",
            "activation_90 (Activation)      (None, 80, 80, 64)   0           add_37[0][0]                     \n",
            "__________________________________________________________________________________________________\n",
            "conv2d_transpose_38 (Conv2DTran (None, 80, 80, 32)   18464       activation_90[0][0]              \n",
            "__________________________________________________________________________________________________\n",
            "batch_normalization_89 (BatchNo (None, 80, 80, 32)   128         conv2d_transpose_38[0][0]        \n",
            "__________________________________________________________________________________________________\n",
            "activation_91 (Activation)      (None, 80, 80, 32)   0           batch_normalization_89[0][0]     \n",
            "__________________________________________________________________________________________________\n",
            "conv2d_transpose_39 (Conv2DTran (None, 80, 80, 32)   9248        activation_91[0][0]              \n",
            "__________________________________________________________________________________________________\n",
            "batch_normalization_90 (BatchNo (None, 80, 80, 32)   128         conv2d_transpose_39[0][0]        \n",
            "__________________________________________________________________________________________________\n",
            "up_sampling2d_39 (UpSampling2D) (None, 160, 160, 64) 0           add_37[0][0]                     \n",
            "__________________________________________________________________________________________________\n",
            "up_sampling2d_38 (UpSampling2D) (None, 160, 160, 32) 0           batch_normalization_90[0][0]     \n",
            "__________________________________________________________________________________________________\n",
            "conv2d_54 (Conv2D)              (None, 160, 160, 32) 2080        up_sampling2d_39[0][0]           \n",
            "__________________________________________________________________________________________________\n",
            "add_38 (Add)                    (None, 160, 160, 32) 0           up_sampling2d_38[0][0]           \n",
            "                                                                 conv2d_54[0][0]                  \n",
            "__________________________________________________________________________________________________\n",
            "conv2d_55 (Conv2D)              (None, 160, 160, 37) 10693       add_38[0][0]                     \n",
            "==================================================================================================\n",
            "Total params: 2,068,805\n",
            "Trainable params: 2,065,029\n",
            "Non-trainable params: 3,776\n",
            "__________________________________________________________________________________________________\n"
          ],
          "name": "stdout"
        }
      ]
    },
    {
      "cell_type": "code",
      "metadata": {
        "id": "wAz27aC77CnG",
        "colab_type": "code",
        "outputId": "f77dfcef-4639-493f-863a-c25c386bfd95",
        "colab": {
          "base_uri": "https://localhost:8080/",
          "height": 208
        }
      },
      "source": [
        "batch_size = 8\n",
        "test_generator = Dataloader(batch_size, (160, 160), testset_input_paths[:10], testset_annot_paths[:10])\n",
        "test_preds = unet_model.predict(test_generator)"
      ],
      "execution_count": 6,
      "outputs": [
        {
          "output_type": "stream",
          "text": [
            "Executing op TensorDataset in device /job:localhost/replica:0/task:0/device:CPU:0\n",
            "Executing op FlatMapDataset in device /job:localhost/replica:0/task:0/device:CPU:0\n",
            "Executing op PrefetchDataset in device /job:localhost/replica:0/task:0/device:CPU:0\n",
            "Executing op OptimizeDataset in device /job:localhost/replica:0/task:0/device:CPU:0\n",
            "Executing op ModelDataset in device /job:localhost/replica:0/task:0/device:CPU:0\n",
            "Executing op AnonymousIteratorV2 in device /job:localhost/replica:0/task:0/device:CPU:0\n",
            "Executing op MakeIterator in device /job:localhost/replica:0/task:0/device:CPU:0\n",
            "Executing op OptimizeDataset in device /job:localhost/replica:0/task:0/device:CPU:0\n",
            "Executing op ModelDataset in device /job:localhost/replica:0/task:0/device:CPU:0\n",
            "Executing op DeleteIterator in device /job:localhost/replica:0/task:0/device:CPU:0\n",
            "Executing op __inference_predict_function_4089 in device /job:localhost/replica:0/task:0/device:GPU:0\n"
          ],
          "name": "stdout"
        }
      ]
    },
    {
      "cell_type": "code",
      "metadata": {
        "id": "6SP_DKYhz1ik",
        "colab_type": "code",
        "colab": {}
      },
      "source": [
        "\n",
        "# plt.imshow(display([(PIL.ImageOps.autocontrast(load_img(testset_annot_paths[7], target_size = (160, 160), color_mode = \"grayscale\"))), (test_preds, 7)]))"
      ],
      "execution_count": 0,
      "outputs": []
    },
    {
      "cell_type": "markdown",
      "metadata": {
        "id": "zLkVYnJ346sW",
        "colab_type": "text"
      },
      "source": [
        "---\n",
        "# 06. Displaying the Results\n",
        "\n",
        "In the following section, we are displaying the results of the model predictions on the test dataset. Because of the GPU's OOM issue, the prediction is done on only 10 test samples and we are displaying three results here."
      ]
    },
    {
      "cell_type": "code",
      "metadata": {
        "id": "2UDItsttyzKi",
        "colab_type": "code",
        "colab": {}
      },
      "source": [
        "def display_mask(img_arr, i):\n",
        "    \"\"\"\n",
        "    helper function to display a model's prediction.\n",
        "    \"\"\"\n",
        "    mask = np.argmax(img_arr[i], axis=-1)\n",
        "    mask = np.expand_dims(mask, axis=-1)\n",
        "    img = PIL.ImageOps.autocontrast(keras.preprocessing.image.array_to_img(mask))\n",
        "    display(img)"
      ],
      "execution_count": 0,
      "outputs": []
    },
    {
      "cell_type": "code",
      "metadata": {
        "id": "916dfBd76ORO",
        "colab_type": "code",
        "colab": {
          "base_uri": "https://localhost:8080/",
          "height": 337
        },
        "outputId": "e04223db-41d7-49a2-d70c-a39c167c1649"
      },
      "source": [
        "# real Image\n",
        "display(PIL.ImageOps.autocontrast(load_img(testset_annot_paths[0], target_size = (160, 160), color_mode = \"grayscale\")))\n",
        "# predicted Image\n",
        "display_mask(test_preds, 0)"
      ],
      "execution_count": 72,
      "outputs": [
        {
          "output_type": "display_data",
          "data": {
            "image/png": "[encoded data removed]",
            "text/plain": [
              "<PIL.Image.Image image mode=L size=160x160 at 0x7F6F41B04828>"
            ]
          },
          "metadata": {
            "tags": []
          }
        },
        {
          "output_type": "display_data",
          "data": {
            "image/png": "[encoded data removed]",
            "text/plain": [
              "<PIL.Image.Image image mode=L size=160x160 at 0x7F6F41B04978>"
            ]
          },
          "metadata": {
            "tags": []
          }
        }
      ]
    },
    {
      "cell_type": "code",
      "metadata": {
        "id": "gNS12QRf4FGl",
        "colab_type": "code",
        "colab": {
          "base_uri": "https://localhost:8080/",
          "height": 337
        },
        "outputId": "356ab2e2-761a-405b-9ae4-842647cea77a"
      },
      "source": [
        "# real Image\n",
        "display(PIL.ImageOps.autocontrast(load_img(testset_annot_paths[2], target_size = (160, 160), color_mode = \"grayscale\")))\n",
        "# predicted Image\n",
        "display_mask(test_preds, 2)"
      ],
      "execution_count": 66,
      "outputs": [
        {
          "output_type": "display_data",
          "data": {
            "image/png": "[encoded data removed]",
            "text/plain": [
              "<PIL.Image.Image image mode=L size=160x160 at 0x7F6F41B20710>"
            ]
          },
          "metadata": {
            "tags": []
          }
        },
        {
          "output_type": "display_data",
          "data": {
            "image/png": "[encoded data removed]",
            "text/plain": [
              "<PIL.Image.Image image mode=L size=160x160 at 0x7F6F41B20208>"
            ]
          },
          "metadata": {
            "tags": []
          }
        }
      ]
    },
    {
      "cell_type": "code",
      "metadata": {
        "id": "p7Rm_kU454uq",
        "colab_type": "code",
        "colab": {
          "base_uri": "https://localhost:8080/",
          "height": 337
        },
        "outputId": "33f55c15-914c-41a3-f5cc-22e958cca9da"
      },
      "source": [
        "# real Image\n",
        "display(PIL.ImageOps.autocontrast(load_img(testset_annot_paths[6], target_size = (160, 160), color_mode = \"grayscale\")))\n",
        "# predicted Image\n",
        "display_mask(test_preds, 6)"
      ],
      "execution_count": 68,
      "outputs": [
        {
          "output_type": "display_data",
          "data": {
            "image/png": "[encoded data removed]",
            "text/plain": [
              "<PIL.Image.Image image mode=L size=160x160 at 0x7F6F41B20B00>"
            ]
          },
          "metadata": {
            "tags": []
          }
        },
        {
          "output_type": "display_data",
          "data": {
            "image/png": "[encoded data removed]",
            "text/plain": [
              "<PIL.Image.Image image mode=L size=160x160 at 0x7F6F41B20630>"
            ]
          },
          "metadata": {
            "tags": []
          }
        }
      ]
    },
    {
      "cell_type": "code",
      "metadata": {
        "id": "N2XSsqYN6GmD",
        "colab_type": "code",
        "colab": {
          "base_uri": "https://localhost:8080/",
          "height": 337
        },
        "outputId": "50b7d169-cc1b-4e94-fd3b-09a96af25572"
      },
      "source": [
        "# real Image\n",
        "display(PIL.ImageOps.autocontrast(load_img(testset_annot_paths[7], target_size = (160, 160), color_mode = \"grayscale\")))\n",
        "# predicted Image\n",
        "display_mask(test_preds, 7)"
      ],
      "execution_count": 69,
      "outputs": [
        {
          "output_type": "display_data",
          "data": {
            "image/png": "[encoded data removed]",
            "text/plain": [
              "<PIL.Image.Image image mode=L size=160x160 at 0x7F6F41B20860>"
            ]
          },
          "metadata": {
            "tags": []
          }
        },
        {
          "output_type": "display_data",
          "data": {
            "image/png": "[encoded data removed]",
            "text/plain": [
              "<PIL.Image.Image image mode=L size=160x160 at 0x7F6F41B200F0>"
            ]
          },
          "metadata": {
            "tags": []
          }
        }
      ]
    }
  ]
}